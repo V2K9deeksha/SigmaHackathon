{
 "cells": [
  {
   "cell_type": "code",
   "execution_count": 15,
   "id": "0200c0be-5543-4c9f-8b64-bf85722eb8de",
   "metadata": {
    "tags": []
   },
   "outputs": [],
   "source": [
    "from quantrocket.history import create_usstock_db, collect_history\n",
    "from quantrocket.master import get_securities\n",
    "from quantrocket.history import download_history_file\n",
    "import pandas as pd"
   ]
  },
  {
   "cell_type": "code",
   "execution_count": null,
   "id": "a61f0c32-95e0-4504-894b-5bc896b8ef54",
   "metadata": {},
   "outputs": [],
   "source": [
    "# Step 1: Create a US stock database named \"aapl-2023\" with daily bars and mark it as a free database\n",
    "create_usstock_db(\"aapl\", bar_size=\"1 day\", free=True)"
   ]
  },
  {
   "cell_type": "code",
   "execution_count": 8,
   "id": "32d38724-76e0-4321-993b-f8e522854dd9",
   "metadata": {},
   "outputs": [
    {
     "data": {
      "text/plain": [
       "{'status': 'the historical data will be collected asynchronously'}"
      ]
     },
     "execution_count": 8,
     "metadata": {},
     "output_type": "execute_result"
    }
   ],
   "source": [
    "# Step 2: Collect historical data for the created database\n",
    "collect_history(\"aapl\")"
   ]
  },
  {
   "cell_type": "code",
   "execution_count": 9,
   "id": "fe9f0143-5264-4d48-9235-0af6749c1380",
   "metadata": {
    "tags": []
   },
   "outputs": [],
   "source": [
    "# Step 3: Obtain the unique identifier (sid) for Apple stock (AAPL)\n",
    "securities = get_securities(vendors=\"usstock\", sec_types=\"STK\")\n",
    "aapl_sid = securities.loc[securities[\"Symbol\"] == \"AAPL\"].index[0]"
   ]
  },
  {
   "cell_type": "code",
   "execution_count": 10,
   "id": "46a5ba1a-27e7-46d6-bb72-22a10e14e226",
   "metadata": {
    "tags": []
   },
   "outputs": [],
   "source": [
    "from quantrocket import get_prices\n",
    "# Step 4: Retrieve the historical price data for Apple stock (AAPL) as a DataFrame\n",
    "price_data = get_prices(\"aapl\", sids=[aapl_sid], start_date=\"2023-01-01\", end_date=\"2023-12-31\", fields=[\"Close\"])\n",
    "\n",
    "# Step 5: Save the DataFrame to a CSV file\n",
    "csv_file_path = \"aapl_data.csv\"\n",
    "price_data.to_csv(csv_file_path)"
   ]
  },
  {
   "cell_type": "code",
   "execution_count": 11,
   "id": "1610c2f7-990d-41b6-8c19-b9eaaa96c587",
   "metadata": {
    "tags": []
   },
   "outputs": [
    {
     "data": {
      "text/html": [
       "<div>\n",
       "<style scoped>\n",
       "    .dataframe tbody tr th:only-of-type {\n",
       "        vertical-align: middle;\n",
       "    }\n",
       "\n",
       "    .dataframe tbody tr th {\n",
       "        vertical-align: top;\n",
       "    }\n",
       "\n",
       "    .dataframe thead th {\n",
       "        text-align: right;\n",
       "    }\n",
       "</style>\n",
       "<table border=\"1\" class=\"dataframe\">\n",
       "  <thead>\n",
       "    <tr style=\"text-align: right;\">\n",
       "      <th></th>\n",
       "      <th>Field</th>\n",
       "      <th>Date</th>\n",
       "      <th>FIBBG000B9XRY4</th>\n",
       "    </tr>\n",
       "  </thead>\n",
       "  <tbody>\n",
       "    <tr>\n",
       "      <th>0</th>\n",
       "      <td>Close</td>\n",
       "      <td>2023-01-03</td>\n",
       "      <td>124.2163</td>\n",
       "    </tr>\n",
       "    <tr>\n",
       "      <th>1</th>\n",
       "      <td>Close</td>\n",
       "      <td>2023-01-04</td>\n",
       "      <td>125.4975</td>\n",
       "    </tr>\n",
       "    <tr>\n",
       "      <th>2</th>\n",
       "      <td>Close</td>\n",
       "      <td>2023-01-05</td>\n",
       "      <td>124.1666</td>\n",
       "    </tr>\n",
       "    <tr>\n",
       "      <th>3</th>\n",
       "      <td>Close</td>\n",
       "      <td>2023-01-06</td>\n",
       "      <td>128.7352</td>\n",
       "    </tr>\n",
       "    <tr>\n",
       "      <th>4</th>\n",
       "      <td>Close</td>\n",
       "      <td>2023-01-09</td>\n",
       "      <td>129.2616</td>\n",
       "    </tr>\n",
       "    <tr>\n",
       "      <th>...</th>\n",
       "      <td>...</td>\n",
       "      <td>...</td>\n",
       "      <td>...</td>\n",
       "    </tr>\n",
       "    <tr>\n",
       "      <th>245</th>\n",
       "      <td>Close</td>\n",
       "      <td>2023-12-22</td>\n",
       "      <td>193.3533</td>\n",
       "    </tr>\n",
       "    <tr>\n",
       "      <th>246</th>\n",
       "      <td>Close</td>\n",
       "      <td>2023-12-26</td>\n",
       "      <td>192.8040</td>\n",
       "    </tr>\n",
       "    <tr>\n",
       "      <th>247</th>\n",
       "      <td>Close</td>\n",
       "      <td>2023-12-27</td>\n",
       "      <td>192.9038</td>\n",
       "    </tr>\n",
       "    <tr>\n",
       "      <th>248</th>\n",
       "      <td>Close</td>\n",
       "      <td>2023-12-28</td>\n",
       "      <td>193.3333</td>\n",
       "    </tr>\n",
       "    <tr>\n",
       "      <th>249</th>\n",
       "      <td>Close</td>\n",
       "      <td>2023-12-29</td>\n",
       "      <td>192.2846</td>\n",
       "    </tr>\n",
       "  </tbody>\n",
       "</table>\n",
       "<p>250 rows × 3 columns</p>\n",
       "</div>"
      ],
      "text/plain": [
       "     Field        Date  FIBBG000B9XRY4\n",
       "0    Close  2023-01-03        124.2163\n",
       "1    Close  2023-01-04        125.4975\n",
       "2    Close  2023-01-05        124.1666\n",
       "3    Close  2023-01-06        128.7352\n",
       "4    Close  2023-01-09        129.2616\n",
       "..     ...         ...             ...\n",
       "245  Close  2023-12-22        193.3533\n",
       "246  Close  2023-12-26        192.8040\n",
       "247  Close  2023-12-27        192.9038\n",
       "248  Close  2023-12-28        193.3333\n",
       "249  Close  2023-12-29        192.2846\n",
       "\n",
       "[250 rows x 3 columns]"
      ]
     },
     "execution_count": 11,
     "metadata": {},
     "output_type": "execute_result"
    }
   ],
   "source": [
    "data = pd.read_csv(\"aapl_data.csv\")\n",
    "data"
   ]
  },
  {
   "cell_type": "code",
   "execution_count": 41,
   "id": "39751ca1-83c4-4957-a230-b99cee34d630",
   "metadata": {
    "tags": []
   },
   "outputs": [],
   "source": [
    "# Define the new column names\n",
    "new_column_names = {'Field': 'Field',\n",
    "                    'Date': 'Date',\n",
    "                    'FIBBG000B9XRY4': 'Price'}\n",
    "\n",
    "# Rename the columns\n",
    "data = data.rename(columns=new_column_names)"
   ]
  },
  {
   "cell_type": "code",
   "execution_count": 42,
   "id": "4d8fb3b5-0d65-4e29-9424-324e21aa218f",
   "metadata": {
    "tags": []
   },
   "outputs": [
    {
     "data": {
      "text/html": [
       "<div>\n",
       "<style scoped>\n",
       "    .dataframe tbody tr th:only-of-type {\n",
       "        vertical-align: middle;\n",
       "    }\n",
       "\n",
       "    .dataframe tbody tr th {\n",
       "        vertical-align: top;\n",
       "    }\n",
       "\n",
       "    .dataframe thead th {\n",
       "        text-align: right;\n",
       "    }\n",
       "</style>\n",
       "<table border=\"1\" class=\"dataframe\">\n",
       "  <thead>\n",
       "    <tr style=\"text-align: right;\">\n",
       "      <th></th>\n",
       "      <th>Field</th>\n",
       "      <th>Date</th>\n",
       "      <th>Price</th>\n",
       "    </tr>\n",
       "  </thead>\n",
       "  <tbody>\n",
       "    <tr>\n",
       "      <th>0</th>\n",
       "      <td>Close</td>\n",
       "      <td>2023-01-03</td>\n",
       "      <td>124.2163</td>\n",
       "    </tr>\n",
       "    <tr>\n",
       "      <th>1</th>\n",
       "      <td>Close</td>\n",
       "      <td>2023-01-04</td>\n",
       "      <td>125.4975</td>\n",
       "    </tr>\n",
       "    <tr>\n",
       "      <th>2</th>\n",
       "      <td>Close</td>\n",
       "      <td>2023-01-05</td>\n",
       "      <td>124.1666</td>\n",
       "    </tr>\n",
       "    <tr>\n",
       "      <th>3</th>\n",
       "      <td>Close</td>\n",
       "      <td>2023-01-06</td>\n",
       "      <td>128.7352</td>\n",
       "    </tr>\n",
       "    <tr>\n",
       "      <th>4</th>\n",
       "      <td>Close</td>\n",
       "      <td>2023-01-09</td>\n",
       "      <td>129.2616</td>\n",
       "    </tr>\n",
       "    <tr>\n",
       "      <th>...</th>\n",
       "      <td>...</td>\n",
       "      <td>...</td>\n",
       "      <td>...</td>\n",
       "    </tr>\n",
       "    <tr>\n",
       "      <th>245</th>\n",
       "      <td>Close</td>\n",
       "      <td>2023-12-22</td>\n",
       "      <td>193.3533</td>\n",
       "    </tr>\n",
       "    <tr>\n",
       "      <th>246</th>\n",
       "      <td>Close</td>\n",
       "      <td>2023-12-26</td>\n",
       "      <td>192.8040</td>\n",
       "    </tr>\n",
       "    <tr>\n",
       "      <th>247</th>\n",
       "      <td>Close</td>\n",
       "      <td>2023-12-27</td>\n",
       "      <td>192.9038</td>\n",
       "    </tr>\n",
       "    <tr>\n",
       "      <th>248</th>\n",
       "      <td>Close</td>\n",
       "      <td>2023-12-28</td>\n",
       "      <td>193.3333</td>\n",
       "    </tr>\n",
       "    <tr>\n",
       "      <th>249</th>\n",
       "      <td>Close</td>\n",
       "      <td>2023-12-29</td>\n",
       "      <td>192.2846</td>\n",
       "    </tr>\n",
       "  </tbody>\n",
       "</table>\n",
       "<p>250 rows × 3 columns</p>\n",
       "</div>"
      ],
      "text/plain": [
       "     Field        Date     Price\n",
       "0    Close  2023-01-03  124.2163\n",
       "1    Close  2023-01-04  125.4975\n",
       "2    Close  2023-01-05  124.1666\n",
       "3    Close  2023-01-06  128.7352\n",
       "4    Close  2023-01-09  129.2616\n",
       "..     ...         ...       ...\n",
       "245  Close  2023-12-22  193.3533\n",
       "246  Close  2023-12-26  192.8040\n",
       "247  Close  2023-12-27  192.9038\n",
       "248  Close  2023-12-28  193.3333\n",
       "249  Close  2023-12-29  192.2846\n",
       "\n",
       "[250 rows x 3 columns]"
      ]
     },
     "execution_count": 42,
     "metadata": {},
     "output_type": "execute_result"
    }
   ],
   "source": [
    "data = pd.DataFrame(data)\n",
    "data"
   ]
  },
  {
   "cell_type": "code",
   "execution_count": 43,
   "id": "d8a9040e-8c12-450e-ae20-f70db93ab753",
   "metadata": {
    "tags": []
   },
   "outputs": [
    {
     "data": {
      "image/png": "[encoded data removed]",
      "text/plain": [
       "<Figure size 576x288 with 1 Axes>"
      ]
     },
     "metadata": {},
     "output_type": "display_data"
    }
   ],
   "source": [
    "# @title Price\n",
    "\n",
    "from matplotlib import pyplot as plt\n",
    "data['Price'].plot(kind='line', figsize=(8, 4), title='Price')\n",
    "plt.gca().spines[['top', 'right']].set_visible(False)"
   ]
  },
  {
   "cell_type": "code",
   "execution_count": 54,
   "id": "b7134e37-a1ec-4282-aadd-896ddd8346c3",
   "metadata": {
    "tags": []
   },
   "outputs": [
    {
     "data": {
      "image/png": "[encoded data removed]",
      "text/plain": [
       "<Figure size 720x374.4 with 1 Axes>"
      ]
     },
     "metadata": {},
     "output_type": "display_data"
    }
   ],
   "source": [
    "import seaborn as sns\n",
    "import pandas as pd\n",
    "import matplotlib.pyplot as plt\n",
    "\n",
    "# Create some example data\n",
    "d = {'month': ['Jan', 'Feb', 'Mar', 'Apr', 'May', 'Jun'],\n",
    "       'price': [100, 120, 150, 180, 200, 250]}\n",
    "\n",
    "df = pd.DataFrame(d)\n",
    "\n",
    "# Group the data by month\n",
    "grouped_data = df.groupby('month')['price'].mean().reset_index()  # Reset index to make month a column\n",
    "\n",
    "# Set Seaborn style\n",
    "sns.set_style(\"whitegrid\")\n",
    "\n",
    "# Create a line plot using Seaborn\n",
    "plt.figure(figsize=(10, 5.2))\n",
    "sns.lineplot(data=grouped_data, x='month', y='price', marker='o', color='blue')\n",
    "\n",
    "# Add labels and title\n",
    "plt.xlabel('Month')\n",
    "plt.ylabel('Average Price')\n",
    "plt.title('Price vs. Month')\n",
    "\n",
    "# Rotate x-axis labels for better readability\n",
    "plt.xticks(rotation=45)\n",
    "\n",
    "# Show the plot\n",
    "plt.show()\n"
   ]
  },
  {
   "cell_type": "code",
   "execution_count": 46,
   "id": "67797b77-4981-4847-85ad-88ed960343d2",
   "metadata": {
    "tags": []
   },
   "outputs": [],
   "source": [
    "import numpy as np\n",
    "\n",
    "class QLearningAgent:\n",
    "    def __init__(self, n_states, n_actions, learning_rate=0.1, discount_factor=0.9, epsilon=0.1):\n",
    "        self.q_table = np.zeros((n_states, n_actions))\n",
    "        self.learning_rate = learning_rate\n",
    "        self.discount_factor = discount_factor\n",
    "        self.epsilon = epsilon\n",
    "        self.prev_state = None\n",
    "        self.prev_action = None\n",
    "\n",
    "    def select_action(self, state):\n",
    "        if np.random.rand() < self.epsilon:\n",
    "            return np.random.randint(len(self.q_table[state]))\n",
    "        else:\n",
    "            return np.argmax(self.q_table[state])\n",
    "\n",
    "    def update_q_table(self, state, action, reward, next_state):\n",
    "        if self.prev_state is not None and self.prev_action is not None:\n",
    "            old_value = self.q_table[self.prev_state, self.prev_action]\n",
    "            next_max = np.max(self.q_table[next_state])\n",
    "            new_value = old_value + self.learning_rate * (reward + self.discount_factor * next_max - old_value)\n",
    "            self.q_table[self.prev_state, self.prev_action] = new_value\n",
    "\n",
    "        self.prev_state = state\n",
    "        self.prev_action = action\n",
    "\n",
    "    def reset(self):\n",
    "        self.prev_state = None\n",
    "        self.prev_action = None\n",
    "\n",
    "def calculate_state(returns):\n",
    "    if returns >= 0.1:\n",
    "        return 2  # Bull state\n",
    "    elif returns > -0.1:\n",
    "        return 1  # Flat state\n",
    "    else:\n",
    "        return 0  # Bear state\n",
    "\n",
    "def preprocess_data(data):\n",
    "    # Assuming 'Field' and 'Date' are not relevant for modeling, we'll drop them\n",
    "    processed_data = data.drop(['Field', 'Date'], axis=1)\n",
    "    return processed_data\n"
   ]
  },
  {
   "cell_type": "code",
   "execution_count": 47,
   "id": "6281c616-bee4-4f14-bd8d-929866e4b053",
   "metadata": {
    "tags": []
   },
   "outputs": [],
   "source": [
    "#main function\n",
    "def main(data, agent, epochs=100):\n",
    "    portfolio_value = 0\n",
    "\n",
    "    for epoch in range(epochs):\n",
    "        portfolio_value = 0\n",
    "        agent.reset()\n",
    "\n",
    "        for i in range(len(data) - 1): \n",
    "            current_price = float(data.iloc[i].iloc[0]) \n",
    "            next_price = float(data.iloc[i + 1].iloc[0])\n",
    "            returns = (next_price - current_price) / current_price\n",
    "            #print(type(returns))\n",
    "            state = calculate_state(returns)\n",
    "            action = agent.select_action(state)\n",
    "\n",
    "            # Execute action (place buy order)\n",
    "            if action == 1:\n",
    "                portfolio_value += 1\n",
    "            elif action == 2:\n",
    "                portfolio_value -= 1\n",
    "\n",
    "            # Update Q-table\n",
    "            next_returns = (data.iloc[i+1].iloc[0] - data.iloc[i].iloc[0]) / data.iloc[i].iloc[0]\n",
    "            next_state = calculate_state(next_returns)\n",
    "            reward = 1 if action == 1 and next_state == 2 else -1 if action == 2 and next_state == 0 else 0\n",
    "            agent.update_q_table(state, action, reward, next_state)\n",
    "\n",
    "    return portfolio_value"
   ]
  },
  {
   "cell_type": "code",
   "execution_count": 48,
   "id": "c4151470-62ea-4167-aa77-8c71e4339329",
   "metadata": {
    "tags": []
   },
   "outputs": [],
   "source": [
    "processed_data = preprocess_data(data)\n",
    "n_states = 3  # Number of states (Bull, Flat, Bear)\n",
    "n_actions = 3  # Number of actions (Hold, Buy, Sell)\n",
    "agent = QLearningAgent(n_states, n_actions)"
   ]
  },
  {
   "cell_type": "code",
   "execution_count": 49,
   "id": "b21672e8-d3d3-479c-b9ba-c63ab492c1e4",
   "metadata": {
    "tags": []
   },
   "outputs": [
    {
     "name": "stdout",
     "output_type": "stream",
     "text": [
      "        Price\n",
      "0    124.2163\n",
      "1    125.4975\n",
      "2    124.1666\n",
      "3    128.7352\n",
      "4    129.2616\n",
      "..        ...\n",
      "245  193.3533\n",
      "246  192.8040\n",
      "247  192.9038\n",
      "248  193.3333\n",
      "249  192.2846\n",
      "\n",
      "[250 rows x 1 columns]\n"
     ]
    }
   ],
   "source": [
    "print(processed_data)"
   ]
  },
  {
   "cell_type": "code",
   "execution_count": 50,
   "id": "451c49f7-5e6e-4dfb-b66d-24b24654d97a",
   "metadata": {},
   "outputs": [
    {
     "name": "stdout",
     "output_type": "stream",
     "text": [
      "Portfolio Value:  -3\n"
     ]
    }
   ],
   "source": [
    "portfolio_value = main(processed_data, agent)\n",
    "print(\"Portfolio Value: \", portfolio_value)"
   ]
  },
  {
   "cell_type": "code",
   "execution_count": null,
   "id": "d2a8472c-d08e-45c5-b740-6f14764a75b4",
   "metadata": {},
   "outputs": [],
   "source": []
  }
 ],
 "metadata": {
  "kernelspec": {
   "display_name": "Python 3.9",
   "language": "python",
   "name": "python3"
  },
  "language_info": {
   "codemirror_mode": {
    "name": "ipython",
    "version": 3
   },
   "file_extension": ".py",
   "mimetype": "text/x-python",
   "name": "python",
   "nbconvert_exporter": "python",
   "pygments_lexer": "ipython3",
   "version": "3.9.12"
  }
 },
 "nbformat": 4,
 "nbformat_minor": 5
}
